{
  "cells": [
    {
      "cell_type": "code",
      "execution_count": 2,
      "metadata": {
        "colab": {
          "base_uri": "https://localhost:8080/"
        },
        "id": "ijQFnzvFyjSH",
        "outputId": "f2dbf8a4-2d48-46a2-8bab-4c32a12f1e22"
      },
      "outputs": [
        {
          "output_type": "stream",
          "name": "stdout",
          "text": [
            "Accuracy: 0.8\n",
            "Classification Report:\n",
            "              precision    recall  f1-score   support\n",
            "\n",
            "           0       0.89      0.67      0.76        12\n",
            "           1       0.75      0.92      0.83        13\n",
            "\n",
            "    accuracy                           0.80        25\n",
            "   macro avg       0.82      0.79      0.79        25\n",
            "weighted avg       0.82      0.80      0.80        25\n",
            "\n"
          ]
        }
      ],
      "source": [
        "import os\n",
        "import numpy as np\n",
        "import librosa\n",
        "from sklearn.model_selection import train_test_split\n",
        "from sklearn.preprocessing import StandardScaler\n",
        "from sklearn.svm import SVC\n",
        "from sklearn.metrics import classification_report, accuracy_score\n",
        "\n",
        "# Function to extract features from an audio file\n",
        "def extract_features(file_path):\n",
        "    audio, sample_rate = librosa.load(file_path, sr=None)\n",
        "    mfccs = librosa.feature.mfcc(y=audio, sr=sample_rate, n_mfcc=40)\n",
        "    mfccs = np.mean(mfccs.T, axis=0)\n",
        "    return mfccs\n",
        "\n",
        "# Directories containing the audio samples\n",
        "positive_dir = '/content/drive/MyDrive/segmented/pos'\n",
        "negative_dir = '/content/drive/MyDrive/segmented/neg'\n",
        "\n",
        "# Extract features and labels\n",
        "X, y = [], []\n",
        "\n",
        "# Positive samples\n",
        "for file_name in os.listdir(positive_dir):\n",
        "    if file_name.endswith('.mp3'):\n",
        "        file_path = os.path.join(positive_dir, file_name)\n",
        "        features = extract_features(file_path)\n",
        "        X.append(features)\n",
        "        y.append(1)  # Positive label\n",
        "\n",
        "# Negative samples\n",
        "for file_name in os.listdir(negative_dir):\n",
        "    if file_name.endswith('.mp3'):\n",
        "        file_path = os.path.join(negative_dir, file_name)\n",
        "        features = extract_features(file_path)\n",
        "        X.append(features)\n",
        "        y.append(0)  # Negative label\n",
        "\n",
        "# Convert to numpy arrays\n",
        "X = np.array(X)\n",
        "y = np.array(y)\n",
        "\n",
        "# Split the data into training and testing sets\n",
        "X_train, X_test, y_train, y_test = train_test_split(X, y, test_size=0.2, random_state=42)\n",
        "\n",
        "# Standardize the features\n",
        "scaler = StandardScaler()\n",
        "X_train = scaler.fit_transform(X_train)\n",
        "X_test = scaler.transform(X_test)\n",
        "\n",
        "# Train an SVM model\n",
        "svm_model = SVC(kernel='linear', C=1.0, random_state=42)\n",
        "svm_model.fit(X_train, y_train)\n",
        "\n",
        "# Make predictions on the test set\n",
        "y_pred = svm_model.predict(X_test)\n",
        "\n",
        "# Evaluate the model\n",
        "accuracy = accuracy_score(y_test, y_pred)\n",
        "report = classification_report(y_test, y_pred)\n",
        "\n",
        "print(f'Accuracy: {accuracy}')\n",
        "print('Classification Report:')\n",
        "print(report)\n"
      ]
    },
    {
      "cell_type": "code",
      "execution_count": 3,
      "metadata": {
        "colab": {
          "base_uri": "https://localhost:8080/"
        },
        "id": "2nr3Quh24uSj",
        "outputId": "000c31fa-409f-4828-d202-a0abbf7a1575"
      },
      "outputs": [
        {
          "output_type": "execute_result",
          "data": {
            "text/plain": [
              "['/content/drive/MyDrive/model_saves/svm_model.pkl']"
            ]
          },
          "metadata": {},
          "execution_count": 3
        }
      ],
      "source": [
        "import os\n",
        "import joblib\n",
        "\n",
        "# Ensure the directory exists\n",
        "save_dir = '/content/drive/MyDrive/model_saves'\n",
        "os.makedirs(save_dir, exist_ok=True)\n",
        "\n",
        "# Save the scaler and SVM model\n",
        "scaler_path = os.path.join(save_dir, 'scaler.pkl')\n",
        "model_path = os.path.join(save_dir, 'svm_model.pkl')\n",
        "\n",
        "joblib.dump(scaler, scaler_path)  # Save the scaler to a file\n",
        "joblib.dump(svm_model, model_path)  # Save the SVM model to a file\n"
      ]
    },
    {
      "cell_type": "code",
      "execution_count": 4,
      "metadata": {
        "colab": {
          "base_uri": "https://localhost:8080/"
        },
        "id": "PVufvxwQz3Bt",
        "outputId": "64245124-a9a6-4d28-dc67-959e5ed7e69b",
        "collapsed": true
      },
      "outputs": [
        {
          "output_type": "stream",
          "name": "stdout",
          "text": [
            "The cough is COVID-19 positive.\n"
          ]
        }
      ],
      "source": [
        "import os\n",
        "import numpy as np\n",
        "import librosa\n",
        "from sklearn.preprocessing import StandardScaler\n",
        "import joblib\n",
        "\n",
        "# Function to extract features from an audio file\n",
        "def extract_features(file_path):\n",
        "    audio, sample_rate = librosa.load(file_path, sr=None)\n",
        "    mfccs = librosa.feature.mfcc(y=audio, sr=sample_rate, n_mfcc=40)\n",
        "    mfccs = np.mean(mfccs.T, axis=0)\n",
        "    return mfccs\n",
        "\n",
        "# Path to the new audio file\n",
        "new_audio_path = '/content/drive/MyDrive/segmented/pos/pos-0421-084-cough-m-50-0.mp3'\n",
        "\n",
        "# Extract features from the new audio file\n",
        "new_features = extract_features(new_audio_path)\n",
        "\n",
        "# Load the scaler and model (assuming they were saved earlier)\n",
        "scaler = joblib.load('/content/drive/MyDrive/model_saves/scaler.pkl')\n",
        "svm_model = joblib.load('/content/drive/MyDrive/model_saves/svm_model.pkl')\n",
        "\n",
        "# Preprocess the features\n",
        "new_features = scaler.transform([new_features])\n",
        "\n",
        "# Predict the label for the new audio sample\n",
        "prediction = svm_model.predict(new_features)\n",
        "\n",
        "# Output the prediction\n",
        "if prediction == 1:\n",
        "    print(\"The cough is COVID-19 positive.\")\n",
        "else:\n",
        "    print(\"The cough is COVID-19 negative.\")\n"
      ]
    }
  ],
  "metadata": {
    "accelerator": "GPU",
    "colab": {
      "gpuType": "T4",
      "provenance": []
    },
    "kernelspec": {
      "display_name": "Python 3",
      "name": "python3"
    },
    "language_info": {
      "name": "python"
    }
  },
  "nbformat": 4,
  "nbformat_minor": 0
}